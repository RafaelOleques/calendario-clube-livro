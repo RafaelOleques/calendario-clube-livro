{
 "cells": [
  {
   "cell_type": "code",
   "execution_count": 1,
   "id": "9142680c",
   "metadata": {},
   "outputs": [],
   "source": [
    "import pandas as pd\n",
    "import xlwings as xw"
   ]
  },
  {
   "cell_type": "markdown",
   "id": "507704e2",
   "metadata": {},
   "source": [
    "## Leio o xlsx"
   ]
  },
  {
   "cell_type": "code",
   "execution_count": 61,
   "id": "834ea349",
   "metadata": {},
   "outputs": [
    {
     "name": "stderr",
     "output_type": "stream",
     "text": [
      "C:\\Users\\Windows\\anaconda3\\envs\\pessoais\\lib\\site-packages\\openpyxl\\worksheet\\_reader.py:312: UserWarning: Unknown extension is not supported and will be removed\n",
      "  warn(msg)\n"
     ]
    }
   ],
   "source": [
    "df = pd.read_excel('./calendario_clube.xlsx')"
   ]
  },
  {
   "cell_type": "markdown",
   "id": "753d93c7",
   "metadata": {},
   "source": [
    "## Abre a janela do excel"
   ]
  },
  {
   "cell_type": "code",
   "execution_count": 49,
   "id": "18478e8f",
   "metadata": {},
   "outputs": [],
   "source": [
    "wb = xw.Book('./calendario_clube.xlsx') # wb = xw.Book(filename) would open an existing file\n"
   ]
  },
  {
   "cell_type": "markdown",
   "id": "01944279",
   "metadata": {},
   "source": [
    "## Planilhas do arquivo"
   ]
  },
  {
   "cell_type": "code",
   "execution_count": 40,
   "id": "c12a8056",
   "metadata": {},
   "outputs": [
    {
     "name": "stdout",
     "output_type": "stream",
     "text": [
      "Sheets([<Sheet [aleatorios.xlsx]Aleatório>, <Sheet [aleatorios.xlsx]AAA>])\n"
     ]
    }
   ],
   "source": [
    "print(wb.sheets)"
   ]
  },
  {
   "cell_type": "markdown",
   "id": "1b2e6cff",
   "metadata": {},
   "source": [
    "## Abre uma página da planilha"
   ]
  },
  {
   "cell_type": "code",
   "execution_count": 50,
   "id": "d2a161ca",
   "metadata": {},
   "outputs": [],
   "source": [
    "ws = wb.sheets[\"Setembro\"]\n",
    "\n",
    "#Mudar o nome da página\n",
    "#ws.name = \"bbb\"\n",
    "\n",
    "#Escreve na célula A1\n",
    "ws.range(\"B7\").value = '5'"
   ]
  },
  {
   "cell_type": "code",
   "execution_count": 94,
   "id": "1349c1fa",
   "metadata": {},
   "outputs": [
    {
     "name": "stdout",
     "output_type": "stream",
     "text": [
      "0\n",
      "D\n"
     ]
    }
   ],
   "source": [
    "from datetime import datetime\n",
    "\n",
    "#Pega o dia da semana\n",
    "dia = datetime(2021, 8, 31).weekday() + 2\n",
    "print(d)\n",
    "\n",
    "c = ord(\"A\") + dia\n",
    "print(chr(c))"
   ]
  },
  {
   "cell_type": "code",
   "execution_count": 95,
   "id": "aebceebe",
   "metadata": {},
   "outputs": [
    {
     "name": "stdout",
     "output_type": "stream",
     "text": [
      "30\n"
     ]
    }
   ],
   "source": [
    "import calendar\n",
    "_, num_dias = calendar.monthrange(2021,9)\n",
    "print(num_dias)"
   ]
  },
  {
   "cell_type": "code",
   "execution_count": null,
   "id": "96c95b4b",
   "metadata": {},
   "outputs": [],
   "source": []
  },
  {
   "cell_type": "code",
   "execution_count": null,
   "id": "a934203f",
   "metadata": {},
   "outputs": [],
   "source": []
  }
 ],
 "metadata": {
  "kernelspec": {
   "display_name": "Python 3 (ipykernel)",
   "language": "python",
   "name": "python3"
  },
  "language_info": {
   "codemirror_mode": {
    "name": "ipython",
    "version": 3
   },
   "file_extension": ".py",
   "mimetype": "text/x-python",
   "name": "python",
   "nbconvert_exporter": "python",
   "pygments_lexer": "ipython3",
   "version": "3.8.11"
  }
 },
 "nbformat": 4,
 "nbformat_minor": 5
}
